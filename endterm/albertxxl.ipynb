{
  "cells": [
    {
      "cell_type": "code",
      "execution_count": null,
      "metadata": {
        "id": "MIM65G7zQq9e"
      },
      "outputs": [],
      "source": [
        "from google.colab import drive\n",
        "drive.mount('/content/drive')"
      ]
    },
    {
      "cell_type": "code",
      "execution_count": null,
      "metadata": {
        "id": "fqp7KxZzQxtI"
      },
      "outputs": [],
      "source": [
        "pip install transformers"
      ]
    },
    {
      "cell_type": "code",
      "execution_count": null,
      "metadata": {
        "id": "3kcQKJH4Qx4Y"
      },
      "outputs": [],
      "source": [
        "pip install SentencePiece"
      ]
    },
    {
      "cell_type": "code",
      "execution_count": null,
      "metadata": {
        "id": "aleQJ9n3QyKZ"
      },
      "outputs": [],
      "source": [
        "import torch\n",
        "import torch.optim as optim\n",
        "import torch.nn as nn\n",
        "from torch.utils.data import DataLoader, TensorDataset\n",
        "from transformers import AlbertTokenizer, AlbertForSequenceClassification  \n",
        "from sklearn.model_selection import train_test_split\n",
        "import numpy as np\n",
        "\n",
        "# Load data from .npy file\n",
        "data = np.load(\"/content/drive/MyDrive/BrainTeaser/word_puzzle.npy\", allow_pickle=True)[()]\n",
        "questions = [entry['question'] for entry in data]\n",
        "options = [entry['choice_list'] for entry in data]\n",
        "correct_indices = [entry['label'] for entry in data]\n",
        "\n",
        "# Tokenize and preprocess the data using ALBERT tokenizer\n",
        "tokenizer = AlbertTokenizer.from_pretrained(\"albert-xxlarge-v2\")\n",
        "\n",
        "# Split the data into training and validation sets (80% train, 20% validation)\n",
        "train_questions, val_questions, train_options, val_options, train_correct_indices, val_correct_indices = train_test_split(questions, options, correct_indices, test_size=0.2)\n",
        "\n",
        "# Tokenize your data\n",
        "train_encodings = tokenizer(train_questions, train_options, truncation=True, padding=True, return_tensors='pt', max_length=64)\n",
        "val_encodings = tokenizer(val_questions, val_options, truncation=True, padding=True, return_tensors='pt', max_length=64)\n",
        "\n",
        "# Create input IDs and attention masks\n",
        "train_input_ids = train_encodings['input_ids']\n",
        "train_attention_mask = train_encodings['attention_mask']\n",
        "\n",
        "val_input_ids = val_encodings['input_ids']\n",
        "val_attention_mask = val_encodings['attention_mask']\n",
        "\n",
        "# Create labels tensor\n",
        "train_labels = torch.tensor(train_correct_indices)\n",
        "val_labels = torch.tensor(val_correct_indices)\n",
        "\n",
        "device = torch.device(\"cuda\" if torch.cuda.is_available() else \"cpu\")\n",
        "\n",
        "# Create TensorDatasets\n",
        "train_dataset = TensorDataset(train_input_ids, train_attention_mask, train_labels)\n",
        "val_dataset = TensorDataset(val_input_ids, val_attention_mask, torch.tensor(val_correct_indices))\n",
        "\n",
        "# Define a data loader\n",
        "batch_size = 16  \n",
        "train_loader = DataLoader(train_dataset, batch_size=batch_size, shuffle=True)\n",
        "val_loader = DataLoader(val_dataset, batch_size=batch_size)\n",
        "\n",
        "# Define your ALBERT model\n",
        "model = AlbertForSequenceClassification.from_pretrained(\"albert-xxlarge-v2\", num_labels=4)\n",
        "\n",
        "# Define your loss function and optimizer\n",
        "criterion = nn.CrossEntropyLoss()\n",
        "optimizer = optim.AdamW(model.parameters(), lr=1e-4)\n",
        "\n",
        "num_epochs = 1\n",
        "model.to(device)\n",
        "\n",
        "# Compile the model\n",
        "model.train()\n",
        "\n",
        "for epoch in range(num_epochs):\n",
        "    running_loss = 0.0\n",
        "    for i, batch in enumerate(train_loader, 0):\n",
        "        inputs, attention_mask, labels = batch\n",
        "        inputs = inputs.to(device)\n",
        "        attention_mask = attention_mask.to(device)\n",
        "        labels = labels.to(device)\n",
        "\n",
        "        optimizer.zero_grad()\n",
        "        outputs = model(input_ids=inputs, attention_mask=attention_mask, labels=labels)\n",
        "        loss = outputs.loss\n",
        "        loss.backward()\n",
        "        optimizer.step()\n",
        "        running_loss += loss.item()\n",
        "\n",
        "    print(f\"Epoch {epoch + 1}, Loss: {running_loss / (i + 1)}\")\n",
        "\n",
        "print(\"Finished Training\")\n"
      ]
    },
    {
      "cell_type": "code",
      "execution_count": null,
      "metadata": {
        "id": "MuRU1aR1QzcK"
      },
      "outputs": [],
      "source": [
        "# Set the model to evaluation mode\n",
        "model.eval()\n",
        "\n",
        "# Variables to keep track of the number of correct predictions and total examples\n",
        "correct_predictions = 0\n",
        "total_examples = 0\n",
        "\n",
        "# Iterate through the validation data\n",
        "for batch in val_loader:\n",
        "    inputs, attention_mask, labels = batch\n",
        "    inputs = inputs.to(device)\n",
        "    attention_mask = attention_mask.to(device)\n",
        "    labels = labels.to(device)\n",
        "\n",
        "    # Forward pass to get predictions\n",
        "    with torch.no_grad():\n",
        "        outputs = model(input_ids=inputs, attention_mask=attention_mask)\n",
        "\n",
        "    # Get predicted labels\n",
        "    predicted_labels = torch.argmax(outputs.logits, dim=1)\n",
        "\n",
        "    # Calculate the number of correct predictions in this batch\n",
        "    correct_predictions += (predicted_labels == labels).sum().item()\n",
        "    total_examples += labels.numel()\n",
        "\n",
        "# Calculate the accuracy\n",
        "accuracy = correct_predictions / total_examples\n",
        "print(f\"Validation Accuracy: {accuracy * 100:.2f}%\")\n"
      ]
    }
  ],
  "metadata": {
    "colab": {
      "provenance": []
    },
    "kernelspec": {
      "display_name": "Python 3",
      "name": "python3"
    },
    "language_info": {
      "name": "python"
    }
  },
  "nbformat": 4,
  "nbformat_minor": 0
}
