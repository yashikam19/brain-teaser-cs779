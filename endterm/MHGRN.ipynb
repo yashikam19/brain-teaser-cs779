{
  "nbformat": 4,
  "nbformat_minor": 0,
  "metadata": {
    "colab": {
      "provenance": []
    },
    "kernelspec": {
      "name": "python3",
      "display_name": "Python 3"
    },
    "language_info": {
      "name": "python"
    }
  },
  "cells": [
    {
      "cell_type": "code",
      "execution_count": null,
      "metadata": {
        "id": "W1q8HJnynSNN"
      },
      "outputs": [],
      "source": [
        "from google.colab import drive\n",
        "drive.mount('/content/drive')"
      ]
    },
    {
      "cell_type": "code",
      "source": [
        "pip install transformers"
      ],
      "metadata": {
        "id": "zaH4_eM0nm45"
      },
      "execution_count": null,
      "outputs": []
    },
    {
      "cell_type": "code",
      "source": [
        "pip install SentencePiece"
      ],
      "metadata": {
        "id": "YarZwCnTnm8W"
      },
      "execution_count": null,
      "outputs": []
    },
    {
      "cell_type": "code",
      "source": [
        "import torch\n",
        "import torch.optim as optim\n",
        "import torch.nn as nn\n",
        "from torch.utils.data import DataLoader, TensorDataset\n",
        "from sklearn.model_selection import train_test_split\n",
        "import numpy as np\n",
        "import networkx as nx\n",
        "\n",
        "# Define your MHGRN model\n",
        "class MHGRN(nn.Module):\n",
        "    def __init__(self, input_dim, hidden_dim, output_dim):\n",
        "        super(MHGRN, self).__init__()\n",
        "        self.fc1 = nn.Linear(input_dim, hidden_dim)\n",
        "        self.fc2 = nn.Linear(hidden_dim, output_dim)\n",
        "\n",
        "    def forward(self, x, adj_matrix):\n",
        "        # Move the adj_matrix tensor to the same device as x\n",
        "        adj_matrix = torch.tensor(adj_matrix, dtype=torch.float, device=x.device)\n",
        "\n",
        "        x = torch.matmul(adj_matrix, x)\n",
        "        x = self.fc1(x)\n",
        "        x = self.fc2(x)\n",
        "        return x\n",
        "\n",
        "# Load your data from a .npy file\n",
        "data = np.load(\"/content/drive/MyDrive/BrainTeaser/word_puzzle.npy\", allow_pickle=True)[()]\n",
        "questions = [entry['question'] for entry in data]\n",
        "options = [entry['choice_list'] for entry in data]\n",
        "correct_indices = [entry['label'] for entry in data]\n",
        "\n",
        "# Create a directed graph\n",
        "graph = nx.DiGraph()\n",
        "\n",
        "# Create node features for questions\n",
        "node_features = []  # You should replace this with meaningful features\n",
        "\n",
        "# Create a set of nodes that are already added to the graph\n",
        "added_nodes = set()\n",
        "\n",
        "for entry in data:\n",
        "    question = entry['question']\n",
        "    choice_list = entry['choice_list']\n",
        "    label = entry['label']\n",
        "\n",
        "    # Add nodes for questions if they haven't been added\n",
        "    if question not in added_nodes:\n",
        "        graph.add_node(question)\n",
        "        added_nodes.add(question)\n",
        "\n",
        "\n",
        "    question_features = np.random.rand(64)\n",
        "    node_features.append(question_features)\n",
        "\n",
        "    # Connect the question node to choice nodes (edges represent relationships)\n",
        "    for choice in choice_list:\n",
        "        graph.add_edge(question, choice)\n",
        "        added_nodes.add(choice)\n",
        "\n",
        "# Create a list of node features in the order of nodes in the graph\n",
        "node_features_list = [node_features[questions.index(node)] if node in questions else np.zeros(64) for node in graph.nodes()]\n",
        "\n",
        "\n",
        "adj_matrix = np.array(nx.adjacency_matrix(graph).todense())\n",
        "\n",
        "input_dim = len(node_features[0])\n",
        "hidden_dim = 128\n",
        "output_dim = 4\n",
        "\n",
        "\n",
        "correct_indices = [correct_indices[questions.index(node)] if node in questions else 0 for node in graph.nodes()]\n",
        "\n",
        "# Create TensorDatasets\n",
        "train_features, val_features, train_labels, val_labels = train_test_split(node_features_list, correct_indices, test_size=0.2)\n",
        "\n",
        "train_dataset = TensorDataset(torch.tensor(train_features, dtype=torch.float), torch.tensor(train_labels, dtype=torch.long))\n",
        "train_loader = DataLoader(train_dataset, batch_size=1495, shuffle=True)\n",
        "\n",
        "val_dataset = TensorDataset(torch.tensor(val_features, dtype=torch.float), torch.tensor(val_labels, dtype=torch.long))\n",
        "val_loader = DataLoader(val_dataset, batch_size=1495, shuffle=False)\n",
        "\n",
        "\n",
        "model = MHGRN(input_dim, hidden_dim, output_dim)\n",
        "model.to(device)\n",
        "\n",
        "\n",
        "criterion = nn.CrossEntropyLoss()\n",
        "optimizer = optim.AdamW(model.parameters(), lr=1e-4)\n",
        "\n",
        "device = torch.device(\"cuda\" if torch.cuda.is_available() else \"cpu\")\n",
        "\n",
        "# Training loop\n",
        "num_epochs = 10\n",
        "\n",
        "for epoch in range(num_epochs):\n",
        "    model.train()\n",
        "    running_loss = 0.0\n",
        "    for i, batch in enumerate(train_loader, 0):\n",
        "        inputs, labels = batch[0].to(device), batch[1].to(device)\n",
        "\n",
        "        optimizer.zero_grad()\n",
        "        outputs = model(inputs, adj_matrix)\n",
        "        loss = criterion(outputs, labels)\n",
        "        loss.backward()\n",
        "        optimizer.step()\n",
        "        running_loss += loss.item()\n",
        "\n",
        "    print(f\"Epoch {epoch + 1}, Loss: {running_loss / (i + 1)}\")\n",
        "\n"
      ],
      "metadata": {
        "id": "9xNJyXMwnnNS"
      },
      "execution_count": null,
      "outputs": []
    },
    {
      "cell_type": "code",
      "source": [
        "# Set the model to evaluation mode\n",
        "model.eval()\n",
        "\n",
        "correct_predictions = 0\n",
        "total_samples = 0\n",
        "\n",
        "# Iterate through the validation dataset\n",
        "with torch.no_grad():  # Disable gradient tracking during validation\n",
        "    for batch in val_loader:\n",
        "        inputs, labels = batch[0].to(device), batch[1].to(device)\n",
        "\n",
        "        # Forward pass\n",
        "        outputs = model(inputs)\n",
        "        _, predicted = torch.max(outputs, dim=1)  # Get the predicted labels\n",
        "\n",
        "        # Update counts\n",
        "        correct_predictions += (predicted == labels).sum().item()\n",
        "        total_samples += labels.size(0)\n",
        "\n",
        "# Calculate accuracy\n",
        "accuracy = (correct_predictions / total_samples) * 100.0\n",
        "print(f'Validation Accuracy: {accuracy:.2f}%')\n"
      ],
      "metadata": {
        "id": "YOrDt99Un8eZ"
      },
      "execution_count": null,
      "outputs": []
    }
  ]
}