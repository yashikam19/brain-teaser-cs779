{
  "cells": [
    {
      "cell_type": "code",
      "execution_count": null,
      "metadata": {
        "id": "QpARqJFpACac"
      },
      "outputs": [],
      "source": [
        "from google.colab import drive\n",
        "drive.mount('/content/drive')"
      ]
    },
    {
      "cell_type": "code",
      "execution_count": null,
      "metadata": {
        "id": "TLyLkRW7AFWJ"
      },
      "outputs": [],
      "source": [
        "pip install transformers"
      ]
    },
    {
      "cell_type": "code",
      "execution_count": null,
      "metadata": {
        "id": "R0JRyHVuAFZo"
      },
      "outputs": [],
      "source": [
        "pip install SentencePiece"
      ]
    },
    {
      "cell_type": "code",
      "execution_count": null,
      "metadata": {
        "id": "cUwjmGQiAFtP"
      },
      "outputs": [],
      "source": [
        "import torch\n",
        "import torch.optim as optim\n",
        "import torch.nn as nn\n",
        "from torch.utils.data import DataLoader, TensorDataset\n",
        "import numpy as np\n",
        "from sklearn.feature_extraction.text import TfidfVectorizer\n",
        "from sklearn.model_selection import train_test_split\n",
        "\n",
        "# Define your KaNet model\n",
        "class KaNet(nn.Module):\n",
        "    def __init__(self, input_dim, hidden_dim, output_dim):\n",
        "        super(KaNet, self).__init__()\n",
        "        self.fc = nn.Linear(input_dim, output_dim)\n",
        "\n",
        "    def forward(self, x):\n",
        "        output = self.fc(x)\n",
        "        return output\n",
        "\n",
        "# Load your data from a .npy file\n",
        "data = np.load(\"/content/drive/MyDrive/BrainTeaser/word_puzzle.npy\", allow_pickle=True)[()]\n",
        "questions = [entry['question'] for entry in data]\n",
        "options = [entry['choice_list'] for entry in data]\n",
        "correct_indices = [entry['label'] for entry in data]\n",
        "\n",
        "# Preprocess and vectorize your data\n",
        "vectorizer = TfidfVectorizer()  # You may need to customize this for your data\n",
        "X = vectorizer.fit_transform(questions)\n",
        "input_dim = X.shape[1]\n",
        "\n",
        "# Split the data into training and validation sets\n",
        "X_train, X_val, y_train, y_val = train_test_split(X, correct_indices, test_size=0.2)\n",
        "\n",
        "# Create labels tensor\n",
        "train_labels = torch.tensor(y_train, dtype=torch.long)  # Convert labels to Long\n",
        "val_labels = torch.tensor(y_val, dtype=torch.long)  # Convert labels to Long\n",
        "\n",
        "device = torch.device(\"cuda\" if torch.cuda.is_available() else \"cpu\")\n",
        "\n",
        "# Create TensorDatasets\n",
        "train_dataset = TensorDataset(torch.tensor(X_train.toarray(), dtype=torch.float), train_labels)\n",
        "val_dataset = TensorDataset(torch.tensor(X_val.toarray(), dtype=torch.float), val_labels)\n",
        "\n",
        "# Define a data loader\n",
        "batch_size = 16  \n",
        "train_loader = DataLoader(train_dataset, batch_size=batch_size, shuffle=True)\n",
        "val_loader = DataLoader(val_dataset, batch_size=batch_size)\n",
        "\n",
        "# Define your KaNet model\n",
        "hidden_dim = 128  \n",
        "output_dim = 4  \n",
        "\n",
        "model = KaNet(input_dim, hidden_dim, output_dim)\n",
        "\n",
        "# Define your loss function and optimizer\n",
        "criterion = nn.CrossEntropyLoss()\n",
        "optimizer = optim.AdamW(model.parameters(), lr=1e-4)\n",
        "\n",
        "num_epochs = 1\n",
        "model.to(device)\n",
        "\n",
        "# Training loop\n",
        "model.train()\n",
        "\n",
        "for epoch in range(num_epochs):\n",
        "    running_loss = 0.0\n",
        "    for i, batch in enumerate(train_loader, 0):\n",
        "        inputs, labels = batch[0].to(device), batch[1].to(device)  # Move input data to the same device\n",
        "\n",
        "        optimizer.zero_grad()\n",
        "        outputs = model(inputs)\n",
        "        loss = criterion(outputs, labels)\n",
        "        loss.backward()\n",
        "        optimizer.step()\n",
        "        running_loss += loss.item()\n",
        "\n",
        "    print(f\"Epoch {epoch + 1}, Loss: {running_loss / (i + 1)}\")\n",
        "\n",
        "print(\"Finished Training\")\n"
      ]
    },
    {
      "cell_type": "code",
      "execution_count": null,
      "metadata": {
        "id": "z_DLr4sDAHf5"
      },
      "outputs": [],
      "source": [
        "model.eval()  # Switch to evaluation mode\n",
        "correct = 0\n",
        "total = 0\n",
        "\n",
        "with torch.no_grad():\n",
        "    for batch in val_loader:\n",
        "        inputs, labels = batch[0].to(device), batch[1].to(device)\n",
        "        outputs = model(inputs)\n",
        "        _, predicted = torch.max(outputs, 1)\n",
        "        total += labels.size(0)\n",
        "        correct += (predicted == labels).sum().item()\n",
        "\n",
        "accuracy = 100 * correct / total\n",
        "print(f'Validation Accuracy: {accuracy:.2f}%')\n"
      ]
    }
  ],
  "metadata": {
    "colab": {
      "provenance": []
    },
    "kernelspec": {
      "display_name": "Python 3",
      "name": "python3"
    },
    "language_info": {
      "name": "python"
    }
  },
  "nbformat": 4,
  "nbformat_minor": 0
}
